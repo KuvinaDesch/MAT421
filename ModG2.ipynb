{
  "nbformat": 4,
  "nbformat_minor": 0,
  "metadata": {
    "colab": {
      "provenance": [],
      "authorship_tag": "ABX9TyNfZ3HvDEGA+Oo5OoOQb2SB",
      "include_colab_link": true
    },
    "kernelspec": {
      "name": "python3",
      "display_name": "Python 3"
    },
    "language_info": {
      "name": "python"
    }
  },
  "cells": [
    {
      "cell_type": "markdown",
      "metadata": {
        "id": "view-in-github",
        "colab_type": "text"
      },
      "source": [
        "<a href=\"https://colab.research.google.com/github/KuvinaDesch/MAT421/blob/main/ModG2.ipynb\" target=\"_parent\"><img src=\"https://colab.research.google.com/assets/colab-badge.svg\" alt=\"Open In Colab\"/></a>"
      ]
    },
    {
      "cell_type": "markdown",
      "source": [
        "Simpson's rule is very helpful for integrating.  The Riemann integral approximates the value within a small region with just a constant, effectively making it a rectangle.  The trapezoid method uses a straight line (linear function) to approximate the value within the region.  Simpson's rule takes this one step further by using a quadratic function.  A quadratic function has 3 coefficients, so trying to find 1 quadratic function for 1 region actually has infinitely many solutions, since there are only 2 points of interest.  Using 2 regions at a time though, there is only 1 quadratic function to pass through all 3 relevant points.\n",
        "\n",
        "Now, to use Simpsons rule for the whole range over which you're integrating, you need to divide it into pairs.  This is only possible with an even number of regions, and therefore, an odd number of points.\n",
        "\n",
        "Again, h is the width of each subregion.  We want to find the approximate area under the curve between x_i-1 and x_i+1.  Using Lagrange polynomials and the easy integral of quadratic functions, we eventually find the area is approximately (h/3)(f(x_i-1) +4f(x_i) +f(x_i+1)).  This is only for 1 pair of regions.  To integrate from a to b, with n points, we take a sum for all pairs, and eventually end up with the following:\n",
        "\n",
        "(h/3)(f(x_0) + 4(sum from i=1 to n-1 for odd i of f(x_i)) +  \n",
        "2(sum from i=2 to n-2 for even i of f(x_i)) + f(x_n))\n",
        "\n",
        "Simpson's rule has an error on the order of O(h^4), which means when you cut h in half, it gets 16 times smaller error, which is of course very good, especially with how simple it is.  Now we will demonstrate just how good it is, using python."
      ],
      "metadata": {
        "id": "3HhIUs3YcIqy"
      }
    },
    {
      "cell_type": "code",
      "execution_count": 35,
      "metadata": {
        "colab": {
          "base_uri": "https://localhost:8080/",
          "height": 300
        },
        "id": "a_4NDc_sb4Ce",
        "outputId": "d37be9b0-a46c-4466-8c8e-be39e568c1be"
      },
      "outputs": [
        {
          "output_type": "stream",
          "name": "stdout",
          "text": [
            "8.429015536854193e-16\n"
          ]
        },
        {
          "output_type": "execute_result",
          "data": {
            "text/plain": [
              "[<matplotlib.lines.Line2D at 0x7fb83e6ec310>]"
            ]
          },
          "metadata": {},
          "execution_count": 35
        },
        {
          "output_type": "display_data",
          "data": {
            "text/plain": [
              "<Figure size 432x288 with 1 Axes>"
            ],
            "image/png": "[encoded data removed]"
          },
          "metadata": {
            "needs_background": "light"
          }
        }
      ],
      "source": [
        "import numpy as np\n",
        "import matplotlib.pyplot as plt\n",
        "\n",
        "# We will have 25 points, which means 24 regions.\n",
        "n = 25\n",
        "\n",
        "# x and y are only for graphing\n",
        "x = np.linspace(0, 2*np.pi, 100)\n",
        "y = np.sin(x) - 0.3*np.cos(5*x)\n",
        "\n",
        "# x2 and y2 are used for calculations, which is why they each have n elements.\n",
        "# y is the function f(x) = sin(x) - 0.3cos(5x)\n",
        "x2 = np.linspace(0, 2*np.pi, n)\n",
        "y2 = np.sin(x2) - 0.3*np.cos(5*x2)\n",
        "\n",
        "# calculate step size\n",
        "h = 2*np.pi/(n-1)\n",
        "\n",
        "# sum the even elements and odd elements\n",
        "s1 = sum(y2[1:n-1:2])\n",
        "s2 = sum(y2[2:n-2:2])\n",
        "\n",
        "# calculate the final approximation with the formula\n",
        "total = y2[0] + 4*s1 + 2*s2 + y2[n-1]\n",
        "total = total*h/3\n",
        "\n",
        "# the exact answer should be 0, so the approximated value is also the error.\n",
        "# it's pretty much nothing, meaning this is a really good approximation.\n",
        "print(total)\n",
        "\n",
        "# The blue is the graph of the function, and the orange represents the only\n",
        "# points that we actually end up using values from in our calculation.\n",
        "# Even just having the orange points, Simpson's rule gave us an extremely good\n",
        "# approximation of what the actual function is like.\n",
        "plt.plot(x,y)\n",
        "plt.plot(x2,y2, 'o')"
      ]
    },
    {
      "cell_type": "markdown",
      "source": [
        "A way we integrate things in python is with scipy's trapz function."
      ],
      "metadata": {
        "id": "TFGoh8dUmSuM"
      }
    },
    {
      "cell_type": "code",
      "source": [
        "import numpy as np\n",
        "from scipy.integrate import trapz\n",
        "\n",
        "n = 33\n",
        "h = 2*np.pi/(n-1)\n",
        "\n",
        "x = np.linspace(0, 2*np.pi, n)\n",
        "y = np.sin(x) - 0.3*np.cos(5*x)\n",
        "\n",
        "# We can see that doing trapezoid method by hand is very close to using trapz.\n",
        "\n",
        "print((h/2)*(y[0] + 2 * sum(y[1:n-1]) + y[n-1]))\n",
        "print(trapz(y,x))"
      ],
      "metadata": {
        "colab": {
          "base_uri": "https://localhost:8080/"
        },
        "id": "DN7CNGG4m09L",
        "outputId": "1218cbfc-7b00-433b-cbc7-807a46704be2"
      },
      "execution_count": 55,
      "outputs": [
        {
          "output_type": "stream",
          "name": "stdout",
          "text": [
            "2.2889137018181647e-16\n",
            "7.632783294297951e-17\n"
          ]
        }
      ]
    },
    {
      "cell_type": "markdown",
      "source": [
        "Another technique is to take an indefinite integral.  This actually creates a new function that tells you integral values for various arguments."
      ],
      "metadata": {
        "id": "n7Q6vIZnpMGW"
      }
    },
    {
      "cell_type": "code",
      "source": [
        "import numpy as np\n",
        "from scipy.integrate import cumtrapz\n",
        "\n",
        "n = 83\n",
        "h = 2*np.pi/(n-1)\n",
        "\n",
        "x = np.linspace(0, 2*np.pi, n)\n",
        "y = np.sin(x) - 0.3*np.cos(5*x)\n",
        "\n",
        "# cumtrapz returns an array with 1 less element\n",
        "# so we remove the first from x in order to graph it.\n",
        "x2 = x[1::]\n",
        "y2 = cumtrapz(y,x)\n",
        "\n",
        "# We can see that f1 is the derivative (slope) of f2\n",
        "# Which also means f2 is the integral (area) of f1.\n",
        "plt.plot(x,y)\n",
        "plt.plot(x2,y2)\n",
        "plt.legend([\"f1\", \"f2\"])"
      ],
      "metadata": {
        "colab": {
          "base_uri": "https://localhost:8080/",
          "height": 282
        },
        "id": "1WZfVayMpXz8",
        "outputId": "9529ebf9-3372-4483-a581-0d50f82550d7"
      },
      "execution_count": 63,
      "outputs": [
        {
          "output_type": "execute_result",
          "data": {
            "text/plain": [
              "<matplotlib.legend.Legend at 0x7fb836ae6490>"
            ]
          },
          "metadata": {},
          "execution_count": 63
        },
        {
          "output_type": "display_data",
          "data": {
            "text/plain": [
              "<Figure size 432x288 with 1 Axes>"
            ],
            "image/png": "[encoded data removed]"
          },
          "metadata": {
            "needs_background": "light"
          }
        }
      ]
    },
    {
      "cell_type": "markdown",
      "source": [
        "Another way to integrate is scipy's quad."
      ],
      "metadata": {
        "id": "FEzYSzHqqtFk"
      }
    },
    {
      "cell_type": "code",
      "source": [
        "import numpy as np\n",
        "from scipy.integrate import quad\n",
        "\n",
        "def f(x):\n",
        "  return np.sin(x) - 0.3*np.cos(5*x)\n",
        "\n",
        "print(quad(f, 0, 2*np.pi))\n",
        "\n",
        "# It gives an array with the value and the estimated error.\n"
      ],
      "metadata": {
        "colab": {
          "base_uri": "https://localhost:8080/"
        },
        "id": "Kp49NmZWqxrM",
        "outputId": "d479dca5-ef00-4d0c-835f-cc5b07b9d966"
      },
      "execution_count": 66,
      "outputs": [
        {
          "output_type": "stream",
          "name": "stdout",
          "text": [
            "(4.440892098500626e-16, 4.618527782440651e-14)\n"
          ]
        }
      ]
    }
  ]
}