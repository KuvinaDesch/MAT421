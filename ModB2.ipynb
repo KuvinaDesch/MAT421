{
  "nbformat": 4,
  "nbformat_minor": 0,
  "metadata": {
    "colab": {
      "provenance": [],
      "authorship_tag": "ABX9TyONRldIy4ztCqxHKWV6eKYM",
      "include_colab_link": true
    },
    "kernelspec": {
      "name": "python3",
      "display_name": "Python 3"
    },
    "language_info": {
      "name": "python"
    }
  },
  "cells": [
    {
      "cell_type": "markdown",
      "metadata": {
        "id": "view-in-github",
        "colab_type": "text"
      },
      "source": [
        "<a href=\"https://colab.research.google.com/github/KuvinaDesch/MAT421/blob/main/ModB2.ipynb\" target=\"_parent\"><img src=\"https://colab.research.google.com/assets/colab-badge.svg\" alt=\"Open In Colab\"/></a>"
      ]
    },
    {
      "cell_type": "markdown",
      "source": [
        "Instead of using a piecewise function that changes at each point, we can find a single polynomial that goes through every point.  This is a Lagrange polynomial.  It is defined as the sum of several basis polynomials.  Each basis polynomial is computed ss follows:\n",
        "\n",
        "Pi(x) = product j = 1 to n, excluding i of (x-xj)/(xi-xj)\n",
        "\n",
        "And the final polynomial is a linear combination of those, defined by:\n",
        "\n",
        "L(x) = sum i = 1 to n of (yi(Pi(x)))\n",
        "\n",
        "The point of this is that any basis polynomial Pi(x) will output 0 for all values of x in the dataset except for xi, in which case it outputs 1.  If you then multiply by yi, it will output the correct value at that point and 0 for all other points in the dataset.  Then adding them all together means the sum will pass through all points."
      ],
      "metadata": {
        "id": "mbF7pN_jG74O"
      }
    },
    {
      "cell_type": "markdown",
      "source": [
        "We will do an example with the points (1, 1), (2, 3), (4, 2).\n",
        "\n",
        "P1(x) = (x-2)(x-4)/((1-2)(1-4)) = (1/3)(x^2 - 6x + 8)  \n",
        "P2(x) = (x-1)(x-4)/((2-1)(2-4)) = (-1/2)(x^2 - 5x + 4)  \n",
        "P3(x) = (x-1)(x-2)/((4-1)(4-2)) = (1/6)(x^2 - 3x + 2)\n",
        "\n",
        "Now that we have the polynomaials, we will implement them in python"
      ],
      "metadata": {
        "id": "PWfyIrxVKAHx"
      }
    },
    {
      "cell_type": "code",
      "execution_count": 21,
      "metadata": {
        "colab": {
          "base_uri": "https://localhost:8080/",
          "height": 282
        },
        "id": "bIJKp3crG5qx",
        "outputId": "6bcd38ae-18c1-4fa2-a2d7-89b147db6c0a"
      },
      "outputs": [
        {
          "output_type": "execute_result",
          "data": {
            "text/plain": [
              "[<matplotlib.lines.Line2D at 0x7f406d29c550>]"
            ]
          },
          "metadata": {},
          "execution_count": 21
        },
        {
          "output_type": "display_data",
          "data": {
            "text/plain": [
              "<Figure size 432x288 with 1 Axes>"
            ],
            "image/png": "[encoded data removed]"
          },
          "metadata": {
            "needs_background": "light"
          }
        }
      ],
      "source": [
        "import numpy as np\n",
        "import numpy.polynomial.polynomial as poly\n",
        "import matplotlib.pyplot as plt\n",
        "\n",
        "plt.plot(1,0, 'ko')\n",
        "plt.plot(1,1, 'ko')\n",
        "plt.plot(2,0, 'ko')\n",
        "plt.plot(2,1, 'ko')\n",
        "plt.plot(4,0, 'ko')\n",
        "plt.plot(4,1, 'ko')\n",
        "\n",
        "P1 = poly.Polynomial([8/3, -2, 1/3])\n",
        "P2 = poly.Polynomial([-2, 5/2, -1/2])\n",
        "P3 = poly.Polynomial([1/3, -1/2, 1/6])\n",
        "\n",
        "x = np.linspace(0, 5, 50)\n",
        "\n",
        "plt.plot(x, P1(x), 'c')\n",
        "plt.plot(x, P2(x), 'm')\n",
        "plt.plot(x, P3(x), 'y')\n",
        "\n",
        "#making polynomials with those coefficients, we can see how\n",
        "#each one passes through zero for the values in the dataset\n",
        "#except for 1, and which one this is differs between the 3\n",
        "\n",
        "#P = P1 + 3*P2 + 2*P3\n",
        "#plt.plot(x, P(x), 'r')"
      ]
    },
    {
      "cell_type": "code",
      "source": [
        "import numpy as np\n",
        "import numpy.polynomial.polynomial as poly\n",
        "import matplotlib.pyplot as plt\n",
        "\n",
        "plt.plot(1,1, 'ko')\n",
        "plt.plot(2,3, 'ko')\n",
        "plt.plot(4,2, 'ko')\n",
        "\n",
        "P1 = poly.Polynomial([8/3, -2, 1/3])\n",
        "P2 = poly.Polynomial([-2, 5/2, -1/2])\n",
        "P3 = poly.Polynomial([1/3, -1/2, 1/6])\n",
        "\n",
        "x = np.linspace(0, 5, 50)\n",
        "\n",
        "P = P1 + 3*P2 + 2*P3\n",
        "\n",
        "plt.plot(x, P(x), 'r')\n",
        "\n",
        "\n",
        "#when we multiply by the corresponding y values and add the\n",
        "#polynomials together, we get a function that passes through every point.\n"
      ],
      "metadata": {
        "colab": {
          "base_uri": "https://localhost:8080/",
          "height": 282
        },
        "id": "Gavrcg3nNsd4",
        "outputId": "ebe00da8-3e82-4222-cbce-93dde34c28a0"
      },
      "execution_count": 23,
      "outputs": [
        {
          "output_type": "execute_result",
          "data": {
            "text/plain": [
              "[<matplotlib.lines.Line2D at 0x7f406d1d46d0>]"
            ]
          },
          "metadata": {},
          "execution_count": 23
        },
        {
          "output_type": "display_data",
          "data": {
            "text/plain": [
              "<Figure size 432x288 with 1 Axes>"
            ],
            "image/png": "[encoded data removed]"
          },
          "metadata": {
            "needs_background": "light"
          }
        }
      ]
    },
    {
      "cell_type": "markdown",
      "source": [
        "It has made a Lagrange polynomial to interpolate the data.  But it decreases very quickly on the left and right sides.  This is an example of why you should only use Lagrange polynomials to interpolate within the domain.  Anyway, doing this by hand is unnecessary because scipy can do it for us."
      ],
      "metadata": {
        "id": "lVcXuZZoQABe"
      }
    },
    {
      "cell_type": "code",
      "source": [
        "import numpy as np\n",
        "import numpy.polynomial.polynomial as poly\n",
        "import matplotlib.pyplot as plt\n",
        "from scipy.interpolate import lagrange\n",
        "\n",
        "\n",
        "x = [1, 2, 4]\n",
        "y = [1, 3, 2]\n",
        "\n",
        "f = lagrange(x, y)\n",
        "\n",
        "ls = np.linspace(0, 5, 50)\n",
        "\n",
        "\n",
        "plt.plot(1,1, 'ko')\n",
        "plt.plot(2,3, 'ko')\n",
        "plt.plot(4,2, 'ko')\n",
        "\n",
        "plt.plot(ls, f(ls), 'g')\n",
        "\n",
        "#We can see this is the same result as before when we did it manually"
      ],
      "metadata": {
        "colab": {
          "base_uri": "https://localhost:8080/",
          "height": 282
        },
        "id": "yVXiY5FZOE8L",
        "outputId": "24cdb1a8-469b-432d-8a8a-186e4f10f833"
      },
      "execution_count": 28,
      "outputs": [
        {
          "output_type": "execute_result",
          "data": {
            "text/plain": [
              "[<matplotlib.lines.Line2D at 0x7f406d8f3460>]"
            ]
          },
          "metadata": {},
          "execution_count": 28
        },
        {
          "output_type": "display_data",
          "data": {
            "text/plain": [
              "<Figure size 432x288 with 1 Axes>"
            ],
            "image/png": "[encoded data removed]"
          },
          "metadata": {
            "needs_background": "light"
          }
        }
      ]
    },
    {
      "cell_type": "markdown",
      "source": [
        "Another interpolation method is Newton's polynomial method.  It makes an n-1 order polynomial of the form  \n",
        "f(x) = a0 + a1(x-x0) + a2(x-x0)(x-x1) + ... + an(x-x0)...(x-xn)  \n",
        "\n",
        "The unique thing is that the coefficients are determined with a procedural method.\n",
        "\n",
        "Each coefficient is ak = f[xk,...x0]\n",
        "The final one is f[xn,...x0]\n",
        "\n",
        "It can be defined iteratively by:  \n",
        "f[xj,...xk] = (f[xj,...x_(k+1)] - f[x_(j-1),...xk])/(xj-xk)\n",
        "\n",
        "\n",
        "We can arrange these into the top left half of a matrix and then use a function to calculate the coefficients.  We will use for example (1, 1), (2, 5), (3, 3), (4, 4), (5, 2)."
      ],
      "metadata": {
        "id": "9eY5RpYWSUE9"
      }
    },
    {
      "cell_type": "code",
      "source": [
        "import numpy as np\n",
        "import numpy.polynomial.polynomial as poly\n",
        "import matplotlib.pyplot as plt\n",
        "\n",
        "x = [1, 2, 3, 4, 5]\n",
        "y = [1, 5, 3, 4, 2]\n",
        "\n",
        "n = 5\n",
        "\n",
        "A = np.zeros([n, n])\n",
        "\n",
        "A[:, 0] = y\n",
        "\n",
        "for i in range(1,n):\n",
        "  for j in range(0, n-i):\n",
        "    A[j][i] = (A[j+1][i-1] - A[j][i-1])/(x[i+j] - x[j])\n",
        "\n",
        "co = A[0, :]\n",
        "\n",
        "#copied from text\n",
        "def newton_poly(coef, x_data, x):\n",
        "    '''\n",
        "    evaluate the newton polynomial \n",
        "    at x\n",
        "    '''\n",
        "    n = len(x_data) - 1 \n",
        "    p = coef[n]\n",
        "    for k in range(1,n+1):\n",
        "        p = coef[n-k] + (x -x_data[n-k])*p\n",
        "    return p\n",
        "\n",
        "\n",
        "ls = np.linspace(1, 5, 50)\n",
        "ls2 = newton_poly(co, x, ls)\n",
        "\n",
        "plt.plot(ls, ls2)\n",
        "\n",
        "plt.plot(1,1,'ko')\n",
        "plt.plot(2,5,'ko')\n",
        "plt.plot(3,3,'ko')\n",
        "plt.plot(4,4,'ko')\n",
        "plt.plot(5,2,'ko')\n",
        "\n",
        "# we can see it passes through each point"
      ],
      "metadata": {
        "colab": {
          "base_uri": "https://localhost:8080/",
          "height": 282
        },
        "id": "rznYAGyWXz_T",
        "outputId": "623567e3-c89d-424b-80f4-100c57edc2ac"
      },
      "execution_count": 56,
      "outputs": [
        {
          "output_type": "execute_result",
          "data": {
            "text/plain": [
              "[<matplotlib.lines.Line2D at 0x7f405e178580>]"
            ]
          },
          "metadata": {},
          "execution_count": 56
        },
        {
          "output_type": "display_data",
          "data": {
            "text/plain": [
              "<Figure size 432x288 with 1 Axes>"
            ],
            "image/png": "[encoded data removed]"
          },
          "metadata": {
            "needs_background": "light"
          }
        }
      ]
    }
  ]
}