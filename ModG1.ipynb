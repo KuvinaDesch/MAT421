{
  "nbformat": 4,
  "nbformat_minor": 0,
  "metadata": {
    "colab": {
      "provenance": [],
      "authorship_tag": "ABX9TyPBX442Q1PDaKuAlTHi9X/f",
      "include_colab_link": true
    },
    "kernelspec": {
      "name": "python3",
      "display_name": "Python 3"
    },
    "language_info": {
      "name": "python"
    }
  },
  "cells": [
    {
      "cell_type": "markdown",
      "metadata": {
        "id": "view-in-github",
        "colab_type": "text"
      },
      "source": [
        "<a href=\"https://colab.research.google.com/github/KuvinaDesch/MAT421/blob/main/ModG1.ipynb\" target=\"_parent\"><img src=\"https://colab.research.google.com/assets/colab-badge.svg\" alt=\"Open In Colab\"/></a>"
      ]
    },
    {
      "cell_type": "markdown",
      "source": [
        "Calculus is all about derivatives and integrals.  Derivatives were covered last time, and now it is time for integrals.  The integral of a function from 1 value to another represents the area between the curve and the x axis within those 2 x values.\n",
        "\n",
        "The big problem is that it's not always easy to make an area formula for any random shape.  It is however, very easy to find the area of a rectangle, it's simply base times height.  So what we do is divide the area into rectangles.  If you want the integral of f(x) from a to b, then you divide the x axis into a numerical grid of n+1 points, resulting in n regions from a to b.  The distance between each one is h = (b-a)/n.  This is called the subinterval, and will be the base for every rectangle.  What about the height?  Well that depends on how you define the rectangle.\n",
        "\n",
        "The simplest method is to choose the value at the left or right endpoint.  You can perform this for each rectangle, and then add all the areas together for the total area of the region.  This results in what's known as the Riemann integral.  This ultimately results in an error on the order of O(h), so the smaller your h is, the smaller the error will be.\n",
        "\n",
        "Another method is to use trapezoids instead of rectangles.  This way, the shape's height will match the function at both endpoints, not just one.  The area of a trapezoid is the same as a rectangle, but you take the average of the 2 lengths on each end.  When you take the area of all trapezoids and add them together, all points except for the 2 ends are double counted, so it's actually not all that different than the other 2 methods, and is actually the average of the 2 methods (left endpoint and right endpoint).  The left endpoint method overestimates area when slope is negative and underestimates when slope is positive.  The right endpoint method is vice versa."
      ],
      "metadata": {
        "id": "P5hOQ1iZrCiG"
      }
    },
    {
      "cell_type": "code",
      "source": [
        "import numpy as np\n",
        "\n",
        "# create 24 evenly spaced points from 0 to 5.  This means 23 regions\n",
        "x = np.linspace(0, 5, 24)\n",
        "# y values for each point\n",
        "y = x**2\n",
        "\n",
        "# step size\n",
        "h = (5 - 0) / 23\n",
        "\n",
        "# we will find area with 3 methods, right endpoint, left endpoint, and trapezoid\n",
        "Larea = 0\n",
        "Rarea = 0\n",
        "Marea = 0\n",
        "\n",
        "# For each region, add the area of the shape\n",
        "# Left endpoint method uses left endpoint as height\n",
        "# Right uses right\n",
        "# trapezoid uses average between them as height\n",
        "for i in range(23):\n",
        "  Larea += h*y[i]\n",
        "  Rarea += h*y[i+1]\n",
        "  Marea += 0.5*h*y[i] + 0.5*h*y[i+1]\n",
        "\n",
        "# We can see how since slope is positive, left endpoint method underestimates\n",
        "# and right endpoint method overestimates.  Even the trapezoid method\n",
        "# slightly overestimates because the curve is nt straight.\n",
        "# the real answer is found with calculus, where the integral is 1/3 x^3\n",
        "print(\"left endpoint method\")\n",
        "print(Larea)\n",
        "print(\"right endpoint method\")\n",
        "print(Rarea)\n",
        "print(\"trapezoid method\")\n",
        "print(Marea)\n",
        "print(\"exact answer\")\n",
        "print(125/3)\n"
      ],
      "metadata": {
        "colab": {
          "base_uri": "https://localhost:8080/"
        },
        "id": "HyCAYyNSIjAX",
        "outputId": "0032cab5-586c-402d-8275-06ccc088c47a"
      },
      "execution_count": 69,
      "outputs": [
        {
          "output_type": "stream",
          "name": "stdout",
          "text": [
            "left endpoint method\n",
            "38.98865784499055\n",
            "right endpoint method\n",
            "44.4234404536862\n",
            "trapezoid method\n",
            "41.70604914933837\n",
            "exact answer\n",
            "41.666666666666664\n"
          ]
        }
      ]
    },
    {
      "cell_type": "code",
      "execution_count": 82,
      "metadata": {
        "colab": {
          "base_uri": "https://localhost:8080/",
          "height": 282
        },
        "id": "W2rviW6VrAdD",
        "outputId": "80f78360-50ba-4b63-8cd7-e94c1208eedf"
      },
      "outputs": [
        {
          "output_type": "execute_result",
          "data": {
            "text/plain": [
              "<matplotlib.collections.PolyCollection at 0x7f41acec7c70>"
            ]
          },
          "metadata": {},
          "execution_count": 82
        },
        {
          "output_type": "display_data",
          "data": {
            "text/plain": [
              "<Figure size 432x288 with 1 Axes>"
            ],
            "image/png": "[encoded data removed]"
          },
          "metadata": {
            "needs_background": "light"
          }
        }
      ],
      "source": [
        "import numpy as np\n",
        "import matplotlib.pyplot as plt\n",
        "\n",
        "x = np.linspace(0, 5, 24)\n",
        "y = x**2\n",
        "\n",
        "x2 = np.delete(x, 0)\n",
        "x2 = np.append(x2, x2[-1])\n",
        "\n",
        "rx = np.empty(48)\n",
        "ry = np.empty(48)\n",
        "\n",
        "for i in range(24):\n",
        "  rx[2*i] = x[i]\n",
        "  rx[2*i+1] = x2[i]\n",
        "  ry[2*i] = y[i]\n",
        "  ry[2*i+1] = y[i]\n",
        "\n",
        "#We can see how left endpoint method underestimates\n",
        "plt.plot(x,y, 'k')\n",
        "plt.fill_between(rx, ry, facecolor = 'pink')"
      ]
    },
    {
      "cell_type": "code",
      "source": [
        "import numpy as np\n",
        "import matplotlib.pyplot as plt\n",
        "\n",
        "x = np.linspace(0, 5, 24)\n",
        "y = x**2\n",
        "\n",
        "x2 = np.delete(x, -1)\n",
        "x2 = np.insert(x2, 0, x2[0])\n",
        "\n",
        "rx = np.empty(48)\n",
        "ry = np.empty(48)\n",
        "\n",
        "for i in range(24):\n",
        "  rx[2*i+1] = x[i]\n",
        "  rx[2*i] = x2[i]\n",
        "  ry[2*i] = y[i]\n",
        "  ry[2*i+1] = y[i]\n",
        "\n",
        "\n",
        "#We can see how right endpoint method overestimates\n",
        "plt.plot(x,y, 'k')\n",
        "plt.fill_between(rx, ry, facecolor = 'pink')"
      ],
      "metadata": {
        "colab": {
          "base_uri": "https://localhost:8080/",
          "height": 282
        },
        "id": "ZoRakqysIa4W",
        "outputId": "c2226781-ab3d-45d5-80d8-37077d503729"
      },
      "execution_count": 83,
      "outputs": [
        {
          "output_type": "execute_result",
          "data": {
            "text/plain": [
              "<matplotlib.collections.PolyCollection at 0x7f41ace4d2b0>"
            ]
          },
          "metadata": {},
          "execution_count": 83
        },
        {
          "output_type": "display_data",
          "data": {
            "text/plain": [
              "<Figure size 432x288 with 1 Axes>"
            ],
            "image/png": "[encoded data removed]"
          },
          "metadata": {
            "needs_background": "light"
          }
        }
      ]
    },
    {
      "cell_type": "code",
      "source": [
        "import numpy as np\n",
        "import matplotlib.pyplot as plt\n",
        "\n",
        "x = np.linspace(0, 5, 5)\n",
        "x2 = np.linspace(0, 5, 24)\n",
        "\n",
        "y = np.sin(x)\n",
        "y2 = np.sin(x2)\n",
        "\n",
        "# We can see that with more complicated functions like sine,\n",
        "# even the trapezoid method can be off by quite a bit\n",
        "plt.plot(x,y)\n",
        "plt.plot(x2,y2)"
      ],
      "metadata": {
        "colab": {
          "base_uri": "https://localhost:8080/",
          "height": 282
        },
        "id": "E2GfpPrkGM-Q",
        "outputId": "e4592533-3e3a-42a9-9f1d-ac1f6f87730e"
      },
      "execution_count": 88,
      "outputs": [
        {
          "output_type": "execute_result",
          "data": {
            "text/plain": [
              "[<matplotlib.lines.Line2D at 0x7f41acd80c10>]"
            ]
          },
          "metadata": {},
          "execution_count": 88
        },
        {
          "output_type": "display_data",
          "data": {
            "text/plain": [
              "<Figure size 432x288 with 1 Axes>"
            ],
            "image/png": "[encoded data removed]"
          },
          "metadata": {
            "needs_background": "light"
          }
        }
      ]
    }
  ]
}