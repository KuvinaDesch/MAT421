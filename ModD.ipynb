{
  "nbformat": 4,
  "nbformat_minor": 0,
  "metadata": {
    "colab": {
      "provenance": [],
      "authorship_tag": "ABX9TyOWzUxtorMzwTII7vpEvQBq",
      "include_colab_link": true
    },
    "kernelspec": {
      "name": "python3",
      "display_name": "Python 3"
    },
    "language_info": {
      "name": "python"
    }
  },
  "cells": [
    {
      "cell_type": "markdown",
      "metadata": {
        "id": "view-in-github",
        "colab_type": "text"
      },
      "source": [
        "<a href=\"https://colab.research.google.com/github/KuvinaDesch/MAT421/blob/main/ModD.ipynb\" target=\"_parent\"><img src=\"https://colab.research.google.com/assets/colab-badge.svg\" alt=\"Open In Colab\"/></a>"
      ]
    },
    {
      "cell_type": "markdown",
      "source": [
        "Linear algebra is one of the most important fields of math within computing.  At the core of linear algebra are matrices.  They are used to represent linear systems.  Here, linear means the variables are only multiplied by constants and added together, with no exponents or special functions.\n",
        "\n",
        "Before linear algebra, we discuss set theory.  In mathematics, a set is just a group of objects.  Usually order does not matter and there's no repetition.  All that matters is whether something is in the set or out of the set.  Sets can contain anything, but the simplest example is sets of numbers.\n",
        "\n",
        "N = Natural numbers {1, 2, 3, ...}  \n",
        "Z = Integers {..., -2, -1, 0, 1, 2, ...}  \n",
        "Q = Rational numbers {a/b where a and b are integers and b is not 0}  \n",
        "R = real numbers (Includes rational and irrational numbers, like pi and sqrt(2))  \n",
        "C = compex numbers {a + bi, where a and b are real, and i = sqrt(-1)}\n",
        "\n",
        "We can talk about sets in the language of set theory.  You can take the union of 2 sets, so A U B contains everything that is in either A or B, or both.  You can take the intersection, so A ∩ B contains each element that is in both A and B.  You can also subtract sets.  A \\ B contains each element that is in A but not in B.  The ∈ symbol means \"in\".  The colon : means \"such that\" so A = {b : b^2=1, b∈R} is a set that contains all real numbers whose square equals 1.  This is the same as {-1, 1}.  There is also the empty set with no elements in it {}.\n",
        "\n",
        "While R contains all real numbers, R^2 contains all ordered pairs of real numbers.  R^3 is all triplets and so on.  In general, R^n is the set of all n-tuplets of real numbers.  Elements of this set are n dimensional vectors.  An example of a 3 dimensional vector is [1, 3, -4].  It is written as a row vector, but there ae also column vectors.  You can convert between these with the transpose operation (^T).  The norm of a vector v is denoted ||v|| and is simply the square root of the sum of the squares of each part of v.  When dealing with vectors, regular numbers are called scalars.\n",
        "\n",
        "You can do a lot with vectors.  For examples, we will use x = [a, b, c] and y = [d, e, f].  For now, we don't care if they're row or column vectors.  The sum is x+y = [a+d, b+e, c+f].  You can multiply a vector by a scalar, for example 3x = [3a, 3b, 3c].  Multiplying 2 vectors has several versions.  The dot product is just the scalar x⋅y = ad+be+cf.  The cross product is the vector x×y = [bf-ce, cd-af, ae-bd].  The dot product and cross product both have formulas relating to the angle between the vectors (this only makes sense when we think of vectors as arrows pointing to points in space denoted by the coordinates of the vector).\n",
        "\n",
        "x⋅y = |x||y|cos(θ)  \n",
        "x×y = |x||y|sin(θ) \n",
        "\n",
        "We can use vectors in python by using numpy arrays."
      ],
      "metadata": {
        "id": "PZIutKnh_G1D"
      }
    },
    {
      "cell_type": "code",
      "execution_count": 26,
      "metadata": {
        "colab": {
          "base_uri": "https://localhost:8080/"
        },
        "id": "kThT4dYb_EaB",
        "outputId": "0bddb03b-a384-48dd-d629-e04f813f9322"
      },
      "outputs": [
        {
          "output_type": "stream",
          "name": "stdout",
          "text": [
            "row vector x:\n",
            "[1 2 3]\n",
            "row vector y:\n",
            "[4 3 2]\n",
            "column vector g:\n",
            "[[1]\n",
            " [2]\n",
            " [3]]\n",
            "sum of x and y:\n",
            "[5 5 5]\n",
            "dot product of x and y:\n",
            "16\n",
            "cross product of x and y:\n",
            "[-5 10 -5]\n",
            "vector scalar product of x and 4:\n",
            "[ 4  8 12]\n"
          ]
        }
      ],
      "source": [
        "import numpy as np\n",
        "\n",
        "# define a row vector x\n",
        "x = np.array([1, 2, 3])\n",
        "print(\"row vector x:\")\n",
        "print(x)\n",
        "\n",
        "# define a row vector y\n",
        "y = np.array([4, 3, 2])\n",
        "print(\"row vector y:\")\n",
        "print(y)\n",
        "\n",
        "# column vector g\n",
        "g = np.array([[1], [2], [3]])\n",
        "print(\"column vector g:\")\n",
        "print(g)\n",
        "\n",
        "print(\"sum of x and y:\")\n",
        "print(x + y)\n",
        "print(\"dot product of x and y:\")\n",
        "print(np.dot(x,y))\n",
        "print(\"cross product of x and y:\")\n",
        "print(np.cross(x,y))\n",
        "print(\"vector scalar product of x and 4:\")\n",
        "print(4*x)\n"
      ]
    },
    {
      "cell_type": "markdown",
      "source": [
        "Matrices are basically an extension of vectors.  Vectors are 1 dimensional lists (even if they represent multiple dimensions), but matrices are 2 dimensional tables.  An m by n matrix will have m rows and n columns.  In this way, vectors can be thought of as 1 by n or n by 1 matrices.\n",
        "\n",
        "Matrices have their own operations.  Multiplying a matrix by a scalar just multiplies every component of the matrix.  Likewise, adding 2 matrices, each component of the sum is the sum of the components of the 2 that are being added.  But this can only be done if the matrices are of the same height and width.  Matrix multiplication is where it gets really interesting.  First of all, order matters, so A\\*B is not the same as B\\*A.  If A has x rows and y columns, and B has z rows and w columns, A\\*B is only possible if the y = z.  The resulting product will be a matrix with x rows and w columns.  To find out what the values in C = A\\*B actually are, you basically take the dot product of the corresponding row of A and the corresponding column of B.\n",
        "\n",
        "\n",
        "Now we can again use numpy arrays in python to represent matrices.\n",
        "\n"
      ],
      "metadata": {
        "id": "Q4e6JaZiP4_g"
      }
    },
    {
      "cell_type": "code",
      "source": [
        "import numpy as np\n",
        "\n",
        "x = np.array([[1, 2, 3]])\n",
        "print(\"x is a row vector, which is also a 1x3 matrix:\")\n",
        "print(x)\n",
        "\n",
        "y = np.array([[6], [2], [9]])\n",
        "print(\"y is a column vector which is also a 3x1 matrix:\")\n",
        "print(y)\n",
        "\n",
        "A = np.array([[6, 1, 7], [9, 32, 5], [-1, 0, 5]])\n",
        "print(\"A is a 3x3 matrix:\")\n",
        "print(A)\n",
        "\n",
        "B = np.array([[3, -1, 2], [2, 1, 0], [2, 3, 4]])\n",
        "print(\"B is a 3x3 matrix:\")\n",
        "print(B)\n",
        "\n",
        "print(\"A*B:\")\n",
        "print(np.matmul(A,B))\n",
        "print(\"B*A:\")\n",
        "print(np.matmul(B,A))\n",
        "print(\"A*y\")\n",
        "print(np.matmul(A,y))\n",
        "print(\"x*A\")\n",
        "print(np.matmul(x,A))\n",
        "print(\"x*y\")\n",
        "print(np.matmul(x,y))\n",
        "print(\"y*x\")\n",
        "print(np.matmul(y,x))\n",
        "print(\"A transpose\")\n",
        "print(np.transpose(A))"
      ],
      "metadata": {
        "colab": {
          "base_uri": "https://localhost:8080/"
        },
        "id": "eIReNRWfSXND",
        "outputId": "96781b6c-560f-4e5c-bc4a-61336267cfa7"
      },
      "execution_count": 43,
      "outputs": [
        {
          "output_type": "stream",
          "name": "stdout",
          "text": [
            "x is a row vector, which is also a 1x3 matrix:\n",
            "[[1 2 3]]\n",
            "y is a column vector which is also a 3x1 matrix:\n",
            "[[6]\n",
            " [2]\n",
            " [9]]\n",
            "A is a 3x3 matrix:\n",
            "[[ 6  1  7]\n",
            " [ 9 32  5]\n",
            " [-1  0  5]]\n",
            "B is a 3x3 matrix:\n",
            "[[ 3 -1  2]\n",
            " [ 2  1  0]\n",
            " [ 2  3  4]]\n",
            "A*B:\n",
            "[[ 34  16  40]\n",
            " [101  38  38]\n",
            " [  7  16  18]]\n",
            "B*A:\n",
            "[[  7 -29  26]\n",
            " [ 21  34  19]\n",
            " [ 35  98  49]]\n",
            "A*y\n",
            "[[101]\n",
            " [163]\n",
            " [ 39]]\n",
            "x*A\n",
            "[[21 65 32]]\n",
            "x*y\n",
            "[[37]]\n",
            "y*x\n",
            "[[ 6 12 18]\n",
            " [ 2  4  6]\n",
            " [ 9 18 27]]\n",
            "A transpose\n",
            "[[ 6  9 -1]\n",
            " [ 1 32  0]\n",
            " [ 7  5  5]]\n",
            "determinant of A\n",
            "1134.0000000000007\n"
          ]
        }
      ]
    },
    {
      "cell_type": "markdown",
      "source": [
        "Square matrices have a special property called determinant, which is a scalar. It is useful because det(A\\*B) = det(A)\\*det(B).  There is a unique type of matrix called the identity matrix.  It is all zeros except for a line of 1s from the top left to bottom right.  It can be any size but must be square.  It's denoted I.  Square matrices have another special property called inverse.  The inverse of A is a matrix A^-1 such that A*(A^-1) = I.  The inverse of the inverse is the original matrix.  The determinant also has the property det(A^-1) = 1/det(A).  Since you can't divide by 0, matrices with determinant 0 have no inverse."
      ],
      "metadata": {
        "id": "SjyZmIhVVAdU"
      }
    },
    {
      "cell_type": "code",
      "source": [
        "import numpy as np\n",
        "\n",
        "A = np.array([[6, 1, 7], [9, 32, 5], [-1, 0, 5]])\n",
        "print(\"A is a 3x3 matrix:\")\n",
        "print(A)\n",
        "\n",
        "print(\"determinant of A\")\n",
        "print(np.linalg.det(A))\n",
        "print(\"inverse of A\")\n",
        "B = np.linalg.inv(A)\n",
        "print(B)\n",
        "print(\"A*B should be the identity matrix\")\n",
        "\n",
        "# we can make the output look better with set_printoptions\n",
        "np.set_printoptions(suppress=True)\n",
        "print(np.matmul(A,B))\n",
        "\n",
        "\n"
      ],
      "metadata": {
        "colab": {
          "base_uri": "https://localhost:8080/"
        },
        "id": "GlEuo1QXVAu4",
        "outputId": "fd45d6dd-c430-413b-e8ac-98a18a775d00"
      },
      "execution_count": 57,
      "outputs": [
        {
          "output_type": "stream",
          "name": "stdout",
          "text": [
            "A is a 3x3 matrix:\n",
            "[[ 6  1  7]\n",
            " [ 9 32  5]\n",
            " [-1  0  5]]\n",
            "determinant of A\n",
            "1134.0000000000007\n",
            "inverse of A\n",
            "[[ 0.1410935 -0.0044092 -0.1931217]\n",
            " [-0.0440917  0.0326279  0.0291005]\n",
            " [ 0.0282187 -0.0008818  0.1613757]]\n",
            "A*B should be the identity matrix\n",
            "[[ 1. -0.  0.]\n",
            " [ 0.  1.  0.]\n",
            " [-0.  0.  1.]]\n"
          ]
        }
      ]
    },
    {
      "cell_type": "markdown",
      "source": [
        "Note:  in this section, all vectors should be treated as column vectors.\n",
        "\n",
        "A linear combination of things is when you multiply each one by a constant and add those together.  One example would be a function f(x, y, z) = 3x + 7y - 2z.  You could also have something more complicated where the input is a vector v = [x, y, z]^T and the output is also a vector.  F(v) = [ax+by+cz, dx+ey+fz, gx+hy+iz]^T.  In this case, the constants a to i can be arranged in a matrix A and then the function is equivalent to matrix vector multiplication F(v) = A*v.  This is an example of a linear transformation.  When we talk about linear transformations like this, we almost always use the matrix form.  The domain is the set of all possible inputs and in this case it's all of the 3 dimensional vector space.  The range is the set of all outputs given the domain as input.  It is often the same as the domain, but if the matrix has determinant 0, then the range will be lower dimensional compared to the domain.  So it's possible for a linear transformation to flatten 3d space into a plane, line, or even single point.  But the range must always include the origin since inputting [0,0,0]^T into a linear transformation always results in [0,0,0]^T.\n",
        "\n",
        "You can have a matrix A and a vector b, and you want to find the input that corresponds to the output b.  This means you are solving b = Ax for x.  If A has non zero determinant, there will be 1 solution.  Otherwise there can be infinitely many solutions, or no solution.\n",
        "\n",
        "Now\n",
        "\n",
        "Vector and matrix equations of the form b = Ax can be thought of as systems of linear equations.  For example, lets say x = [x1, x2, x3]^T.  b = [b1, b2, b3]^T.  \n",
        "A = [[a, b, c], [d, e, f], [g, h, i]].  \n",
        "In this case we have 3 equations:  \n",
        "ax1 + bx2 + cx3 = b1  \n",
        "dx1 + ex2 + fx3 = b2  \n",
        "gx1 + hx2 + ix3 = b3  \n",
        "\n",
        "You can also do this in reverse.  If you have a system of n linear equations, you can turn it into a single equation involving an nxn matrix and 2 n length vectors.\n",
        "\n",
        "Now\n",
        "\n",
        "How do we actually solve equations like b = Ax?  Well one solution is Gaussian elimination.  You have the matrix A and vector b next to each other.  Anything you do to A you must also do to b.  You have 3 elementary operations to do.  You can switch 2 rows, you can multiply 1 row by a constant, and you can add multiples of 1 row to another.  In Gaussian elimination, your goal is to create an upper triangular matrix, where the bottom left half (except the diagonal) is all 0s.  This makes it into a much simpler linear system of equations.  There is also Gauss Jordan elimination, where you make it into an identity matrix.  There is LU decomposition where you express A as the product of an upper triangular matrix U and a lower triangular one L.  A = LU"
      ],
      "metadata": {
        "id": "7zd6Fv3qUYUr"
      }
    }
  ]
}