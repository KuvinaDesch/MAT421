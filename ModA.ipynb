{
  "nbformat": 4,
  "nbformat_minor": 0,
  "metadata": {
    "colab": {
      "provenance": [],
      "authorship_tag": "ABX9TyPKa4gqlundZr2sPFY3PGDX",
      "include_colab_link": true
    },
    "kernelspec": {
      "name": "python3",
      "display_name": "Python 3"
    },
    "language_info": {
      "name": "python"
    }
  },
  "cells": [
    {
      "cell_type": "markdown",
      "metadata": {
        "id": "view-in-github",
        "colab_type": "text"
      },
      "source": [
        "<a href=\"https://colab.research.google.com/github/KuvinaDesch/MAT421/blob/main/ModA.ipynb\" target=\"_parent\"><img src=\"https://colab.research.google.com/assets/colab-badge.svg\" alt=\"Open In Colab\"/></a>"
      ]
    },
    {
      "cell_type": "markdown",
      "source": [
        "There are so many ways to represent numbers.  We usually use decimal, or base 10, but computers use binary, or base 2.\n",
        "\n",
        "In decimal, there are 10 possible digits (0 to 9), and there are places for the 1s place, 10s place, 100s place, etc.  In binary, there are 2 digits, 0 and 1, and the places are the 1s place, 2s place, 4s place, 8s place, etc.\n",
        "\n",
        "Example:\n",
        "752 in base 10 is 7\\*100 + 5\\*10 + 2\\*1\n",
        "The same number in binary is 1011110000.  It is 1\\*512 + 0\\*256 + 1\\*128 + 1\\*64 + 1\\*32 + 1\\*16 + 0\\*8 + 0\\*4 + 0\\*2 + 0\\*1.\n",
        "\n",
        "The rules for addition and long multiplication work the same way in decimal and binary."
      ],
      "metadata": {
        "id": "2A2eF7l1Pwb2"
      }
    },
    {
      "cell_type": "markdown",
      "source": [
        "This method works for integers.  For non integers, we use floating point numbers.  They are useful because we don't don't need as much precision for bigger numbers..  So there are the same number of computer numbers between 1 and 2 and between 100 and 200.  We can't represent all possible numbers with finite bits.  \n",
        "\n",
        "With 64 bits (8 bytes), we represent a floating point number by using 1 bit for the sign, 11 for the exponent, and the remaining 52 are the fraction.  The final number equals (-1)^s \\* 2^(e-1023) \\* (1 + f).\n",
        "\n",
        "Given a number x, to represent it as a 64 bit float, first take the absolute value, and find the closest power of 2 without going over.  That will be 2 to the power of something.  Add 1023 to that to get e.  Then divide x by that power of 2, to get a number from 1 to 2.  subtract 1 and this is your fraction.  Although you have to convert this to binary.  Assume all the bits for this come right after a \"0.\" .  Finally, the sign is 1 if the number's negative.\n",
        "\n",
        "Example:  -93.68\n",
        "What is this as a 64 bit float?  It's negative so the sign will be 1.  The abs val is 93.68.  The closest power of 2 without going over is 64, or 2^6.  So the exponent is 6+1023 = 1029, or in binary, 100000101.  Finally, 93.68/64 = 1.46375.  1.46375 - 1 = 0.46375.  0.46375 = 0\\*1/2 + 1\\*1/4 + 1\\*1/8 + 1\\*1/16 + 0\\*1/32 + 1\\*1/64 + 1\\*1/128 + 0\\*1/256 + 1\\*1/512 + 0\\*1/1024 + ....  So the fraction part will be 0111011010...\n",
        "\n",
        "All together, we get 11000001010111011010...\n",
        "\n",
        "Now we'll do some python."
      ],
      "metadata": {
        "id": "KbKiYv0RhDvP"
      }
    },
    {
      "cell_type": "code",
      "source": [
        "# this tells us information about what we can do with floats on this system\n",
        "import sys\n",
        "sys.float_info"
      ],
      "metadata": {
        "colab": {
          "base_uri": "https://localhost:8080/"
        },
        "id": "xefzZpbXpJSJ",
        "outputId": "88d921f6-3301-4423-c9a1-a3398003a4dc"
      },
      "execution_count": 8,
      "outputs": [
        {
          "output_type": "execute_result",
          "data": {
            "text/plain": [
              "sys.float_info(max=1.7976931348623157e+308, max_exp=1024, max_10_exp=308, min=2.2250738585072014e-308, min_exp=-1021, min_10_exp=-307, dig=15, mant_dig=53, epsilon=2.220446049250313e-16, radix=2, rounds=1)"
            ]
          },
          "metadata": {},
          "execution_count": 8
        }
      ]
    },
    {
      "cell_type": "code",
      "execution_count": 21,
      "metadata": {
        "colab": {
          "base_uri": "https://localhost:8080/"
        },
        "id": "9Xey99KRNGIt",
        "outputId": "bd50069c-144f-4680-8ea8-a4059bc9f60e"
      },
      "outputs": [
        {
          "output_type": "stream",
          "name": "stdout",
          "text": [
            "8.881784197001252e-16\n",
            "7.105427357601002e-15\n",
            "5.684341886080802e-14\n",
            "9.313225746154785e-10\n",
            "1.0\n"
          ]
        }
      ],
      "source": [
        "# only finitely many numbers can be represented with these floats.\n",
        "# This tells us the gaps between consecutive ones around various numbers\n",
        "# The higher the number, the bigger the gap\n",
        "import numpy as np\n",
        "print(np.spacing(5))\n",
        "print(np.spacing(50))\n",
        "print(np.spacing(500))\n",
        "print(np.spacing(5000000))\n",
        "print(np.spacing(5000000000000000))"
      ]
    },
    {
      "cell_type": "markdown",
      "source": [
        "There are exceptions to how floats are stored.  Since we can never get to 0 with a power of 2, if the exponent is -1023 (so e is 0), then we actually treat it as -1022, but the (1+f) is replaced with (0+f).  This lets us get to 0 and also as close to 0 as we can.  If the exponent is 1024 (e is 2047), then we treat it as not a number (NaN), which is undefined.  Except for the case that the fraction is 0, in which case it's infinity, or negative infinity depending on the sign."
      ],
      "metadata": {
        "id": "zlZujjZUs4H_"
      }
    },
    {
      "cell_type": "code",
      "source": [
        "# adding numbers to the maximum value doesn't change it.  This is overflow\n",
        "print(sys.float_info.max)\n",
        "print(sys.float_info.max+1)\n",
        "print(sys.float_info.max+2)\n",
        "\n",
        "# as we get closer and closer to 0, eventually we just get 0\n",
        "print()\n",
        "print(3**-500)\n",
        "print(3**-600)\n",
        "print(3**-700)"
      ],
      "metadata": {
        "colab": {
          "base_uri": "https://localhost:8080/"
        },
        "id": "VsVFA1zqvwkL",
        "outputId": "d5704be6-1c66-4bbe-8465-9c5787d82ea3"
      },
      "execution_count": 72,
      "outputs": [
        {
          "output_type": "stream",
          "name": "stdout",
          "text": [
            "1.7976931348623157e+308\n",
            "1.7976931348623157e+308\n",
            "1.7976931348623157e+308\n",
            "\n",
            "2.750252956203138e-239\n",
            "5.336385165377108e-287\n",
            "0.0\n"
          ]
        }
      ]
    },
    {
      "cell_type": "markdown",
      "source": [
        "Since not every number can be represented perfectly by these floats, we often have to round to the nearest one to store it.  This difference is called round off error.  When you do math with these, the round off errors can compound."
      ],
      "metadata": {
        "id": "WcG2xJNQyiW2"
      }
    },
    {
      "cell_type": "code",
      "source": [
        "# this is obviously equal to 2, but it gives us 1.9999999999999998\n",
        "print(1/3 + 1/3 + 1/3 + 1/3 + 1/3 + 1/3)\n",
        "\n",
        "# it is not equal to 2.  It says false\n",
        "print(1/3 + 1/3 + 1/3 + 1/3 + 1/3 + 1/3 == 2)\n",
        "\n",
        "# the round function lets us round to some number of decimal places to fix this\n",
        "print(round(1/3 + 1/3 + 1/3 + 1/3 + 1/3 + 1/3, 10) == 2)"
      ],
      "metadata": {
        "colab": {
          "base_uri": "https://localhost:8080/"
        },
        "id": "LNjHxi0nzAXz",
        "outputId": "c77e57d7-5d87-4437-ea4f-62a9e488b3a3"
      },
      "execution_count": 97,
      "outputs": [
        {
          "output_type": "stream",
          "name": "stdout",
          "text": [
            "1.9999999999999998\n",
            "False\n",
            "True\n"
          ]
        }
      ]
    },
    {
      "cell_type": "code",
      "source": [
        "# this function adds 1/3 to 1 n times, then subtracts it n times.\n",
        "def f(n):\n",
        "  x = 1\n",
        "  for i in range(n):\n",
        "    x += 1/3\n",
        "  for i in range(n):\n",
        "    x -= 1/3\n",
        "  return x\n",
        "\n",
        "# With higher values of n, the error grows.\n",
        "print(f(1))\n",
        "print(f(10))\n",
        "print(f(100))\n",
        "print(f(1000))\n",
        "print(f(10000))\n",
        "print(f(100000))"
      ],
      "metadata": {
        "colab": {
          "base_uri": "https://localhost:8080/"
        },
        "id": "I49e7boBzblN",
        "outputId": "6e95c04d-90f7-478c-8b10-81938da8a5b2"
      },
      "execution_count": 118,
      "outputs": [
        {
          "output_type": "stream",
          "name": "stdout",
          "text": [
            "1.0\n",
            "0.9999999999999991\n",
            "1.0000000000000002\n",
            "1.0000000000000064\n",
            "1.0000000000001166\n",
            "1.0000000000019214\n"
          ]
        }
      ]
    }
  ]
}