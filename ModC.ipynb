{
  "nbformat": 4,
  "nbformat_minor": 0,
  "metadata": {
    "colab": {
      "provenance": [],
      "authorship_tag": "ABX9TyNgeJwv37USivUTBuu+t+Nm",
      "include_colab_link": true
    },
    "kernelspec": {
      "name": "python3",
      "display_name": "Python 3"
    },
    "language_info": {
      "name": "python"
    }
  },
  "cells": [
    {
      "cell_type": "markdown",
      "metadata": {
        "id": "view-in-github",
        "colab_type": "text"
      },
      "source": [
        "<a href=\"https://colab.research.google.com/github/KuvinaDesch/MAT421/blob/main/ModC.ipynb\" target=\"_parent\"><img src=\"https://colab.research.google.com/assets/colab-badge.svg\" alt=\"Open In Colab\"/></a>"
      ]
    },
    {
      "cell_type": "markdown",
      "source": [
        "Finding the roots of a function is one of the most important things you can do with it.  A root is wherever the function value is equal to zero.  By adding a constant to the function, finding roots can become finding any output you want to look for.  Some functions, like linear and quadratic ones, have really simple formulas to find the exact roots.  Not all functions are like this though, so we want a general method.  Python's scipy has an easy way to do this"
      ],
      "metadata": {
        "id": "eG_j4j2-lvkn"
      }
    },
    {
      "cell_type": "code",
      "execution_count": 14,
      "metadata": {
        "colab": {
          "base_uri": "https://localhost:8080/"
        },
        "id": "ooGwSO_QlqVf",
        "outputId": "8ad4dda8-89d3-46e7-9c0b-d714f5178768"
      },
      "outputs": [
        {
          "output_type": "stream",
          "name": "stdout",
          "text": [
            "[0.63673265]\n",
            "[-1.11022302e-16]\n"
          ]
        }
      ],
      "source": [
        "import numpy as np\n",
        "from scipy import optimize\n",
        "\n",
        "# defining a function for which we want the root\n",
        "def f(x):\n",
        "  return np.sin(x) + x**2 - 1\n",
        "\n",
        "# find root using scipy, starting the method at x=0\n",
        "root = optimize.fsolve(f, 0)\n",
        "\n",
        "# the root is found, and inputting it into the original function\n",
        "# gives us basically zero\n",
        "print(root)\n",
        "print(f(root))\n"
      ]
    },
    {
      "cell_type": "code",
      "source": [
        "import numpy as np\n",
        "from scipy import optimize\n",
        "\n",
        "# if we use a function that has no root\n",
        "def f(x):\n",
        "  return np.e**x\n",
        "\n",
        "# the method will stop once it realizes it's making no progress\n",
        "root = optimize.fsolve(f, 0)\n",
        "\n",
        "# we're stuck with whatever it last checked\n",
        "print(root)\n",
        "print(f(root))\n"
      ],
      "metadata": {
        "colab": {
          "base_uri": "https://localhost:8080/"
        },
        "id": "giK5bDmtoU0q",
        "outputId": "0bf78c7d-bff0-428f-c81c-5bd09d49f88b"
      },
      "execution_count": 15,
      "outputs": [
        {
          "output_type": "stream",
          "name": "stdout",
          "text": [
            "[-276.10007928]\n",
            "[1.23384077e-120]\n"
          ]
        }
      ]
    },
    {
      "cell_type": "markdown",
      "source": [
        "Tolerance is an important concept.  When looking for roots, the exact values are not always known.  Our measured value may be different than the actual value by some amount.  This is the error.  Tolerance is the maximum error that you will allow.  When a zero is found within the tolerance, it means the program has converged.  When we find a root x_r, we can test how close it is to zero with |f(x_r)|.  Once this is smaller than the tolerance, we stop looking because it has converged.  Sometimes a function has no roots, but it has points that are so close to zero, that they're within the tolerance.\n",
        "\n",
        "A very simple root finding method is the bisection method.  The mean value theorem tells you that if you have 2 points (x_1,y_1), (x_2,y_2) of a continuous function f, then for any value y_3 between y_1 and y_2, you can find a value x_3 between x_1 and x_2 such that f(x_3) = y_3.  Applying this to root finding, if y_1 is positive and y_2 is negative (or vice versa), then there must be a root between x_1 and x_2.  The midpoint will be your guess and if it's a root (or within the tolerance), you're done, but if not, you have cut the search range in half.\n",
        "\n",
        "We will implement such a method in python."
      ],
      "metadata": {
        "id": "zwYMOCiboxuf"
      }
    },
    {
      "cell_type": "code",
      "source": [
        "import numpy as np\n",
        "\n",
        "# given the function f, 2 starting points a and b, and tolerance\n",
        "def findRoot(f, a, b, tolerance):\n",
        "\n",
        "  # if a and b have matching signs, a root is not guaranteed, so we stop\n",
        "  if(np.sign(f(a)) == np.sign(f(b))):\n",
        "    raise Exception(\"a and b have the same sign, so a root is not guaranteed\")\n",
        "  else:\n",
        "\n",
        "    # otherwise, calculate the midpoint.\n",
        "    # we also print it after each step to see how the method works\n",
        "    mid = (a+b)/2\n",
        "    print(mid)\n",
        "\n",
        "    # if the midpoint is a root, we return it and stop\n",
        "    if (np.abs(f(mid)) < tolerance):\n",
        "      return mid\n",
        "    else:\n",
        "\n",
        "      # otherwise we use it for another round because this function is recursive\n",
        "      # if its sign matches a, we replace a with mid\n",
        "      # otherwise, its sign matches b, so we replace b with mid\n",
        "      if (np.sign(f(mid)) == np.sign(f(a))):\n",
        "        return findRoot(f, mid, b, tolerance)\n",
        "      else:\n",
        "        return findRoot(f, a, mid, tolerance)\n",
        "\n",
        "\n",
        "\n",
        "\n",
        "# x^5 - 2x is our function\n",
        "def f(x):\n",
        "  return x**5 - 2*x\n",
        "\n",
        "# it finds a root\n",
        "root = findRoot(f, 1, 2, 0.0001)\n",
        "print(\"root:\")\n",
        "print (root)\n",
        "print(\"f(root):\")\n",
        "print (f(root))"
      ],
      "metadata": {
        "colab": {
          "base_uri": "https://localhost:8080/"
        },
        "id": "VIcb2Bt8r4mE",
        "outputId": "ca5599c5-e140-4b7a-9fb4-e9f37297b6e3"
      },
      "execution_count": 31,
      "outputs": [
        {
          "output_type": "stream",
          "name": "stdout",
          "text": [
            "1.5\n",
            "1.25\n",
            "1.125\n",
            "1.1875\n",
            "1.21875\n",
            "1.203125\n",
            "1.1953125\n",
            "1.19140625\n",
            "1.189453125\n",
            "1.1884765625\n",
            "1.18896484375\n",
            "1.189208984375\n",
            "root:\n",
            "1.189208984375\n",
            "f(root):\n",
            "1.4955037002550853e-05\n"
          ]
        }
      ]
    },
    {
      "cell_type": "markdown",
      "source": [
        "The bisection method is simple, but it can be slow.  A more efficient method is the Newton-Raphson method.  It's really easy to find roots for linear functions, but most functions aren't linear.  But a core idea of calculus is instantaneous rate of change, or the slope at a single point.  If you use a linear function with this slope, it simulates the main function pretty well on a local scale.  We can use this recursively and it find the root pretty fast.  It only works on functions that are smooth (have a continuous derivative).  \n",
        "\n",
        "Given a value x0, the linear approximation around that point is calculated with f(x) ~= f(x0) + f'(x0)(x-x0)  \n",
        "\n",
        "To find a zero, we set this equal to zero and solve for x.  That results in\n",
        "\n",
        "x = x0 -f(x0)/f'(x0)\n",
        "\n",
        "This x will become our new x0 when we repeat the algorithm."
      ],
      "metadata": {
        "id": "1p2eKyuTvXjc"
      }
    },
    {
      "cell_type": "code",
      "source": [
        "import numpy as np\n",
        "\n",
        "# given function f, derivative fp, starting guess x0, and tolerance\n",
        "def newtonRaphson(f, fp, x0, tol):\n",
        "  \n",
        "  # find the next guess with the formula\n",
        "  x = x0 - (f(x0)/fp(x0))\n",
        "\n",
        "  # if it's within the tolerance, we're done\n",
        "  if (np.abs(f(x)) < tol):\n",
        "    return x\n",
        "\n",
        "  # otherwise, we use it as the next guess and use the function recursively\n",
        "  else:\n",
        "    return newtonRaphson(f, fp, x, tol)\n",
        "\n",
        "# solving 0 = x^2 - 2 approximates the square root of 2\n",
        "def f(x):\n",
        "  return x**2 - 2\n",
        "\n",
        "# the derivative of x^2 is 2x\n",
        "def fp(x):\n",
        "  return 2*x\n",
        "\n",
        "# with a starting guess of 1.5 and tolerance of 0.00001, we get very close\n",
        "root = newtonRaphson(f, fp, 1.5, 0.00001)\n",
        "print(root)\n",
        "print(root**2)\n",
        "\n",
        "\n"
      ],
      "metadata": {
        "colab": {
          "base_uri": "https://localhost:8080/"
        },
        "id": "jBkZU_LuxYnz",
        "outputId": "3923da5f-f7fa-41ce-adc3-81ee6ecfa8a7"
      },
      "execution_count": 36,
      "outputs": [
        {
          "output_type": "stream",
          "name": "stdout",
          "text": [
            "1.4142156862745099\n",
            "2.000006007304883\n"
          ]
        }
      ]
    },
    {
      "cell_type": "markdown",
      "source": [
        "The problem with this method is that you need the derivative and it can also run into issues.  If the slope is exactly 0 at your guess, then there is no root to the linear approximation.  And if the slope is close to 0, it can throw you off by a lot.\n",
        "\n",
        "Instead of doing things manually, we can just use scipy's fsolve"
      ],
      "metadata": {
        "id": "kath7O7LzkKS"
      }
    },
    {
      "cell_type": "code",
      "source": [
        "import numpy as np\n",
        "from scipy.optimize import fsolve\n",
        "\n",
        "\n",
        "def f(x):\n",
        "  return 2*x**3 - x\n",
        "\n",
        "# we can use a list of 4 starting guesses and it gives us\n",
        "# the result from each one in a list\n",
        "x = fsolve(f, [-1, 0, 1, 2])\n",
        "print(x)"
      ],
      "metadata": {
        "colab": {
          "base_uri": "https://localhost:8080/"
        },
        "id": "9bG4-xja0EUf",
        "outputId": "c769e7a7-8bf9-4394-9b6e-397330603590"
      },
      "execution_count": 41,
      "outputs": [
        {
          "output_type": "stream",
          "name": "stdout",
          "text": [
            "[-0.70710678  0.          0.70710678  0.70710678]\n"
          ]
        }
      ]
    }
  ]
}